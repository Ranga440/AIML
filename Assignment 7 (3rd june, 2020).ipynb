{
 "cells": [
  {
   "cell_type": "markdown",
   "metadata": {},
   "source": [
    "# CSE-221710310043-M.Rangabhagavan Reddy"
   ]
  },
  {
   "cell_type": "markdown",
   "metadata": {},
   "source": [
    "# Question 1:\n",
    "[Reverse] Copy the contents of a text file into another, printing the reversed version of each input line"
   ]
  },
  {
   "cell_type": "code",
   "execution_count": 5,
   "metadata": {},
   "outputs": [
    {
     "name": "stdout",
     "output_type": "stream",
     "text": [
      "Data Science With Python,Advanced Programming,AI and ML,Full Stack Web Development\n",
      "tnempoleveD beW kcatS lluF,LM dna IA,gnimmargorP decnavdA,nohtyP htiW ecneicS ataD\n"
     ]
    }
   ],
   "source": [
    "#answer 1\n",
    "\n",
    "f = open(\"file1.txt\", \"w\")\n",
    "f.write(\"Data Science With Python,Advanced Programming,AI and ML,Full Stack Web Development\")\n",
    "f.close()\n",
    "\n",
    "f = open(\"file1.txt\",\"r\")\n",
    "data = f.read()\n",
    "print(data)\n",
    "f.close()\n",
    "\n",
    "f = open(\"file2.txt\",\"w\")\n",
    "f.write(data[::-1])\n",
    "f.close()\n",
    "f = open(\"file2.txt\",\"r\")\n",
    "data = f.read()\n",
    "print(data)\n",
    "f.close()"
   ]
  },
  {
   "cell_type": "markdown",
   "metadata": {},
   "source": [
    "# Question 2:\n",
    "[Number Lines] Print the contents of a file line by line putting a line number for each line."
   ]
  },
  {
   "cell_type": "code",
   "execution_count": 6,
   "metadata": {},
   "outputs": [
    {
     "name": "stdout",
     "output_type": "stream",
     "text": [
      "Contents of file in order:\n",
      "1. Data Science\n",
      "2. Advanced Programming\n",
      "3. AI and ML\n",
      "4. Full Stack Web Development\n",
      "5. Python Programming\n",
      "6. Summer Internship\n"
     ]
    }
   ],
   "source": [
    "\n",
    "L = [\"Data Science\\n\", \"Advanced Programming\\n\", \"AI and ML\\n\",\"Full Stack Web Development\\n\",\"Python Programming\\n\",\"Summer Internship\\n\"]\n",
    "\n",
    "f1 = open(\"myfile.txt\", \"w\") \n",
    "f1.writelines(L) \n",
    "f1.close()\n",
    "\n",
    "f1 = open(\"myfile.txt\", \"r\") \n",
    "count = 0\n",
    "\n",
    "print(\"Contents of file in order:\") \n",
    "for line in f1: \n",
    "    count += 1\n",
    "    print(\"{}. {}\".format(count, line.strip()))\n",
    "    \n",
    "f1.close()"
   ]
  },
  {
   "cell_type": "markdown",
   "metadata": {},
   "source": [
    "# Question 3:\n",
    "[deDuplicate] Avoiding Duplicates\n",
    "In many situations, lists should not contain duplicate elements. For example, a pack of cards should not contain the same card twice. Define a function\n",
    "duplicates (list): bool\n",
    "which returns True if its argument contains duplicate elements.\n",
    "\t\tduplicates [1,2,3,4,5]\n",
    "\t\t\tFalse\n",
    "\t\tduplicates [1,2,3,2]\n",
    "\t\t\tTrue\n",
    "Hint: the standard operation in, which tests whether an element occurs in a list, is helpful here.\n",
    "\n",
    "One way to ensure a list contains no duplicates is to start with a list that might contain duplicate elements, and remove them. Define a function\n",
    "    removeDuplicates (list): list\n",
    "which returns a list containing the same elements as its argument, but without duplicates.\n"
   ]
  },
  {
   "cell_type": "code",
   "execution_count": 40,
   "metadata": {},
   "outputs": [
    {
     "name": "stdout",
     "output_type": "stream",
     "text": [
      "Enter string of duplicates or not: 123454\n",
      "True\n",
      "['1', '2', '3', '4', '5']\n"
     ]
    }
   ],
   "source": [
    "def Remove(list1): \n",
    "    final_list = [] \n",
    "    for num in list1: \n",
    "        if num not in final_list: \n",
    "            final_list.append(num) \n",
    "    return final_list \n",
    "      \n",
    "\n",
    "def Duplicates(list1):\n",
    "    if len(list1) == len(set(list1)):\n",
    "        return False\n",
    "    else:\n",
    "        return True\n",
    "st=(input(\"Enter string of duplicates or not: \"))\n",
    "list1=list(st)    \n",
    "result=Duplicates(list1)\n",
    "print(result)\n",
    "print(Remove(list1))"
   ]
  },
  {
   "cell_type": "markdown",
   "metadata": {},
   "source": [
    "# Question 4:\n",
    "[fractions.py] Develop a package for fractions. Develop a module that performs operations on fractions. It should have methods to create fractions, perform operations on two fractions, simplify a fraction, and print a fraction. You should use that package and illustrate those operations."
   ]
  },
  {
   "cell_type": "code",
   "execution_count": null,
   "metadata": {},
   "outputs": [],
   "source": []
  },
  {
   "cell_type": "markdown",
   "metadata": {},
   "source": [
    "# Question 5:\n",
    "[Permutations] \n",
    "A permutation of a list is another list with the same elements, but in a possibly different order. For example, [1,2,1] is a permutation of [2,1,1], but not of [1,2,2]. Write a function\n",
    "    \t\tisPermutation (list1, list2): bool\n",
    "that returns True if its arguments are permutations of each other.\n"
   ]
  },
  {
   "cell_type": "code",
   "execution_count": 51,
   "metadata": {},
   "outputs": [
    {
     "name": "stdout",
     "output_type": "stream",
     "text": [
      "enter the list1: 121\n",
      "enter the list2: 211\n",
      "False\n"
     ]
    }
   ],
   "source": [
    "from itertools import *\n",
    "def isPermutation(list1,list2):\n",
    "    p=list(permutations(list1))\n",
    "    return tuple(list2) in p\n",
    "        \n",
    "list1=list(map(int,input(\"enter the list1: \").split()))\n",
    "list2=list(map(int,input(\"enter the list2: \").split()))\n",
    "print(isPermutation(list1,list2))"
   ]
  },
  {
   "cell_type": "code",
   "execution_count": null,
   "metadata": {},
   "outputs": [],
   "source": []
  }
 ],
 "metadata": {
  "kernelspec": {
   "display_name": "Python 3",
   "language": "python",
   "name": "python3"
  },
  "language_info": {
   "codemirror_mode": {
    "name": "ipython",
    "version": 3
   },
   "file_extension": ".py",
   "mimetype": "text/x-python",
   "name": "python",
   "nbconvert_exporter": "python",
   "pygments_lexer": "ipython3",
   "version": "3.7.4"
  }
 },
 "nbformat": 4,
 "nbformat_minor": 2
}
