{
 "cells": [
  {
   "cell_type": "markdown",
   "metadata": {},
   "source": [
    "# 28/05/2020 "
   ]
  },
  {
   "cell_type": "markdown",
   "metadata": {},
   "source": [
    "1. Introduction\n",
    "2. Numeric Datatypes\n",
    "3. Input() and Print()\n",
    "4. Control statements -->if,else,elif\n",
    "5. loop --> while,for"
   ]
  },
  {
   "cell_type": "markdown",
   "metadata": {},
   "source": [
    "### Strings:\n",
    "1. \" \" or ''(charcaters) -->'a'\n",
    "2. Immutable --> we cannot any change\n",
    "3. Collection of characters enclosed by quotation marks-->iterable object"
   ]
  },
  {
   "cell_type": "code",
   "execution_count": 12,
   "metadata": {},
   "outputs": [
    {
     "name": "stdout",
     "output_type": "stream",
     "text": [
      "Enter a string: Hello\n",
      "<class 'str'> <class 'str'>\n"
     ]
    }
   ],
   "source": [
    "s1=input(\"Enter a string: \")\n",
    "s2= 'vardhan'\n",
    "print(type(s1),type(s2))"
   ]
  },
  {
   "cell_type": "code",
   "execution_count": 20,
   "metadata": {},
   "outputs": [
    {
     "name": "stdout",
     "output_type": "stream",
     "text": [
      "Hellovardhan\n",
      "HelloHelloHello\n",
      "l\n",
      "o\n",
      "llo\n"
     ]
    }
   ],
   "source": [
    "#Operators :+,*(repitation),[](slicing),[:](slicing:stop) )\n",
    "print(s1 + s2)#concatenation\n",
    "print(s1 * 3)#Repitation \n",
    "print(s1[3])#slicing\n",
    "print(s1[-1])\n",
    "print(s1[2:])#start=0,stop=length of string,step=1"
   ]
  },
  {
   "cell_type": "code",
   "execution_count": 23,
   "metadata": {},
   "outputs": [
    {
     "name": "stdout",
     "output_type": "stream",
     "text": [
      "Hello\n",
      "Hello\n"
     ]
    }
   ],
   "source": [
    "print(s1[0:5])\n",
    "print(s1[:])"
   ]
  },
  {
   "cell_type": "code",
   "execution_count": 26,
   "metadata": {},
   "outputs": [
    {
     "name": "stdout",
     "output_type": "stream",
     "text": [
      "Hlo\n"
     ]
    }
   ],
   "source": [
    "#Print Alternate characters of string using slicing range\n",
    "\n",
    "print(s1[0:5:2])"
   ]
  },
  {
   "cell_type": "code",
   "execution_count": 30,
   "metadata": {},
   "outputs": [
    {
     "name": "stdout",
     "output_type": "stream",
     "text": [
      "Enter a string:abba\n",
      "The given string is palemdrome\n"
     ]
    }
   ],
   "source": [
    "#Accept a string from a user and check weather it is palindrome or not \n",
    "s3=input(\"Enter a string:\")\n",
    "if s3==s3[::-1]:\n",
    "    print(\"The given string is palindrome\")\n",
    "else:\n",
    "    print(\"Not a palindrome\")\n"
   ]
  },
  {
   "cell_type": "code",
   "execution_count": 34,
   "metadata": {},
   "outputs": [
    {
     "name": "stdout",
     "output_type": "stream",
     "text": [
      "Enter a number141\n",
      "Is a plaindrome\n"
     ]
    }
   ],
   "source": [
    "n =int(input(\"Enter a number\"))\n",
    "if str(n)==str(n)[::-1]:\n",
    "    print(\"Is a plaindrome\")\n",
    "else:\n",
    "    print(\"Not a plaindrome\")"
   ]
  },
  {
   "cell_type": "code",
   "execution_count": 38,
   "metadata": {},
   "outputs": [
    {
     "name": "stdout",
     "output_type": "stream",
     "text": [
      "True\n",
      "False\n",
      "False\n"
     ]
    }
   ],
   "source": [
    "s4=\"python\"\n",
    "print(\"on\" in s4)  #Membership operator\n",
    "print(\"xyz\" in s4)\n",
    "print(\"pa\" in s4)"
   ]
  },
  {
   "cell_type": "markdown",
   "metadata": {},
   "source": [
    "# Bult in functions:\n",
    "1. len() -->length of the string\n",
    "2. max() -->\n",
    "3. min() -->\n",
    "4. str() -->Coverting any data type to string"
   ]
  },
  {
   "cell_type": "code",
   "execution_count": 44,
   "metadata": {},
   "outputs": [
    {
     "name": "stdout",
     "output_type": "stream",
     "text": [
      "5\n",
      "o\n",
      "1\n",
      "c\n",
      "abc123\n"
     ]
    }
   ],
   "source": [
    "s=\"hello\"\n",
    "s1=\"abc123\"\n",
    "print(len(s))\n",
    "print(max(s))\n",
    "print(min(s1))\n",
    "print(max(s1))\n",
    "print(str(s1))"
   ]
  },
  {
   "cell_type": "code",
   "execution_count": 46,
   "metadata": {},
   "outputs": [
    {
     "data": {
      "text/plain": [
       "97"
      ]
     },
     "execution_count": 46,
     "metadata": {},
     "output_type": "execute_result"
    }
   ],
   "source": [
    "ord('a') #askie value"
   ]
  },
  {
   "cell_type": "code",
   "execution_count": 48,
   "metadata": {},
   "outputs": [
    {
     "data": {
      "text/plain": [
       "'a'"
      ]
     },
     "execution_count": 48,
     "metadata": {},
     "output_type": "execute_result"
    }
   ],
   "source": [
    "chr(97) #askie character"
   ]
  },
  {
   "cell_type": "markdown",
   "metadata": {},
   "source": [
    "### Built in Methods:\n",
    "1. capitalize()\n",
    "2. isalpha()  --> Returns true when all the charcters are alphabets are true or flase\n",
    "3. isdigit()  -->Checks only digits in your string\n",
    "4. isalnum()  -->alphabets or digits\n",
    "5. isupper()\n",
    "6. islower()\n",
    "7. upper()\n",
    "8. lower()\n",
    "9. swapcase()"
   ]
  },
  {
   "cell_type": "code",
   "execution_count": 54,
   "metadata": {},
   "outputs": [
    {
     "name": "stdout",
     "output_type": "stream",
     "text": [
      "5\n",
      "Hello\n"
     ]
    }
   ],
   "source": [
    "s = \"hello\"\n",
    "print(len(s))#function name(object name)\n",
    "s=s.capitalize()#object name.method name()\n",
    "print(s)"
   ]
  },
  {
   "cell_type": "code",
   "execution_count": 76,
   "metadata": {},
   "outputs": [
    {
     "name": "stdout",
     "output_type": "stream",
     "text": [
      "True\n",
      "False\n",
      "True\n",
      "False\n",
      "False\n",
      "True\n",
      "False\n",
      "True\n",
      "True\n"
     ]
    }
   ],
   "source": [
    "s1 = \"hello\"\n",
    "s2 = \"abc123\"\n",
    "s3 =\"123\"\n",
    "print(s1.isalpha())\n",
    "print(s1.isdigit())\n",
    "print(s1.isalnum())\n",
    "\n",
    "print(s2.isalpha())\n",
    "print(s2.isdigit())\n",
    "print(s2.isalnum())\n",
    "\n",
    "print(s3.isalpha())\n",
    "print(s3.isdigit())\n",
    "print(s3.isalnum())\n",
    "\n"
   ]
  },
  {
   "cell_type": "code",
   "execution_count": 83,
   "metadata": {},
   "outputs": [
    {
     "name": "stdout",
     "output_type": "stream",
     "text": [
      "False\n",
      "True\n",
      "True\n",
      "False\n",
      "PYTHON\n",
      "python\n",
      "PYTHON\n",
      "python\n",
      "PYTHON\n"
     ]
    }
   ],
   "source": [
    "s1 = \"python\"\n",
    "s2 = \"PYTHON\"\n",
    "print( s1.isupper())\n",
    "print( s2.isupper())\n",
    "\n",
    "print( s1.islower())\n",
    "print( s2.islower())\n",
    "\n",
    "print( s1.upper())\n",
    "print( s1.lower())\n",
    "\n",
    "print( s2.upper())\n",
    "print( s2.lower())\n",
    "\n",
    "print(s1.swapcase())"
   ]
  },
  {
   "cell_type": "code",
   "execution_count": 84,
   "metadata": {},
   "outputs": [
    {
     "name": "stdout",
     "output_type": "stream",
     "text": [
      " pyTHon\n"
     ]
    }
   ],
   "source": [
    "s=\" PYthON\"\n",
    "print(s.swapcase())"
   ]
  },
  {
   "cell_type": "code",
   "execution_count": 91,
   "metadata": {},
   "outputs": [
    {
     "data": {
      "text/plain": [
       "3"
      ]
     },
     "execution_count": 91,
     "metadata": {},
     "output_type": "execute_result"
    }
   ],
   "source": [
    "s = \"abc abc abc\"\n",
    "s.count(\"abc\")#count returns the frequncy of substring in main string"
   ]
  },
  {
   "cell_type": "code",
   "execution_count": 93,
   "metadata": {},
   "outputs": [
    {
     "name": "stdout",
     "output_type": "stream",
     "text": [
      "['abc', 'abc', 'abc']\n",
      "['a', 'b', 'c', 'd']\n"
     ]
    }
   ],
   "source": [
    "#split() -->return type is list\n",
    "print(s.split())\n",
    "s1=\"a,b,c,d\"\n",
    "print(s1.split(\",\"))"
   ]
  },
  {
   "cell_type": "code",
   "execution_count": 100,
   "metadata": {},
   "outputs": [
    {
     "name": "stdout",
     "output_type": "stream",
     "text": [
      "azc\n"
     ]
    }
   ],
   "source": [
    "#replace -->replaces the old charcater with new charcater \n",
    "s= \"abc\" #abc to azc\n",
    "s=s.replace('b','z')\n",
    "print(s)"
   ]
  },
  {
   "cell_type": "code",
   "execution_count": 115,
   "metadata": {},
   "outputs": [
    {
     "name": "stdout",
     "output_type": "stream",
     "text": [
      "enter position: 3\n",
      "Enter a string: abcabc\n",
      "abab\n",
      "ababc\n"
     ]
    }
   ],
   "source": [
    "#accept a number n from the user and remove the n potion charcater from the string\n",
    "\n",
    "n=int(input(\"enter position: \"))\n",
    "s=input(\"Enter a string: \")\n",
    "print(s.replace(s[n-1],\"\"))\n",
    "print(s.replace(s[n-1],\"\",1))\n",
    "\n"
   ]
  },
  {
   "cell_type": "markdown",
   "metadata": {},
   "source": [
    "### for loop:\n",
    "1. For loop with range() function\n",
    "2. For loop with iterable object\n"
   ]
  },
  {
   "cell_type": "markdown",
   "metadata": {},
   "source": [
    "```for variable_name in range(start,stop,step):\n",
    "    statements```"
   ]
  },
  {
   "cell_type": "code",
   "execution_count": 128,
   "metadata": {},
   "outputs": [
    {
     "name": "stdout",
     "output_type": "stream",
     "text": [
      "1,2,3,4,5,6,7,8,9,10,\n",
      "1,2,3,4,5,6,7,8,9,10,"
     ]
    }
   ],
   "source": [
    "#print 1-n  number on the screen\n",
    "n=10\n",
    "for i in range(1,n+1):\n",
    "    print(i,end=\",\")\n",
    "    \n",
    "print()\n",
    "i=1\n",
    "while i<=n:\n",
    "    print(i,end=\",\")\n",
    "    i += 1"
   ]
  },
  {
   "cell_type": "markdown",
   "metadata": {},
   "source": [
    "``` for variable in iterable ob:\n",
    "        statements```"
   ]
  },
  {
   "cell_type": "code",
   "execution_count": 130,
   "metadata": {},
   "outputs": [
    {
     "name": "stdout",
     "output_type": "stream",
     "text": [
      "p\n",
      "y\n",
      "t\n",
      "h\n",
      "o\n",
      "n\n",
      "p\n",
      "y\n",
      "t\n",
      "h\n",
      "o\n",
      "n\n",
      "p\n",
      "y\n",
      "t\n",
      "h\n",
      "o\n",
      "n\n"
     ]
    }
   ],
   "source": [
    "s=\"python\"\n",
    "for i in s:\n",
    "    print(i)\n",
    "    \n",
    "#using while loop print all the charcater of your string of your\n",
    "i=0\n",
    "while(i<len(s)):\n",
    "    print(s[i])\n",
    "    i+=1\n",
    "\n",
    "#using for loop but you should not use iterable \n",
    "for j in range (0,len(s)):\n",
    "    print(s[j])"
   ]
  },
  {
   "cell_type": "markdown",
   "metadata": {},
   "source": [
    "1. Accept a string from the user and count no.of vowels,consonants and special characters\n",
    "2. count the no of pairs of a in the given string\n",
    "   string -->\"abbaaccbbaaa\"\n",
    "   output -->2\n",
    "3. string -->\"((((()()()))))()\"\n",
    "   output --> 8"
   ]
  },
  {
   "cell_type": "code",
   "execution_count": 131,
   "metadata": {},
   "outputs": [
    {
     "name": "stdout",
     "output_type": "stream",
     "text": [
      "Vowels: 5\n",
      "Consonant: 8\n",
      "Special Character: 2\n"
     ]
    }
   ],
   "source": [
    "def countCharacterType(str):  \n",
    "\tvowels = 0\n",
    "\tconsonant = 0\n",
    "\tspecialChar = 0\n",
    "\tdigit = 0\n",
    "\n",
    "\tfor i in range(0, len(str)): \n",
    "\t\t\n",
    "\t\tch = str[i] \n",
    "\t\tif ( (ch >= 'a' and ch <= 'z') or\n",
    "\t\t\t(ch >= 'A' and ch <= 'Z') ): \n",
    "\n",
    "\t\t\tch = ch.lower() \n",
    "\n",
    "\t\t\tif (ch == 'a' or ch == 'e' or ch == 'i'\n",
    "\t\t\t\t\t\tor ch == 'o' or ch == 'u'): \n",
    "\t\t\t\tvowels += 1\n",
    "\t\t\telse: \n",
    "\t\t\t\tconsonant += 1\n",
    "\t\t\n",
    "\t\telif (ch >= '0' and ch <= '9'): \n",
    "\t\t\tdigit += 1\n",
    "\t\telse: \n",
    "\t\t\tspecialChar += 1\n",
    "\t\n",
    "\tprint(\"Vowels:\", vowels) \n",
    "\tprint(\"Consonant:\", consonant) \n",
    "\t\n",
    "\tprint(\"Special Character:\", specialChar) \n",
    "\n",
    "\n",
    "str = \"geeks for geeks121\"\n",
    "countCharacterType(str) \n",
    "\n",
    "\n"
   ]
  },
  {
   "cell_type": "code",
   "execution_count": null,
   "metadata": {},
   "outputs": [],
   "source": []
  },
  {
   "cell_type": "code",
   "execution_count": null,
   "metadata": {},
   "outputs": [],
   "source": []
  }
 ],
 "metadata": {
  "kernelspec": {
   "display_name": "Python 3",
   "language": "python",
   "name": "python3"
  },
  "language_info": {
   "codemirror_mode": {
    "name": "ipython",
    "version": 3
   },
   "file_extension": ".py",
   "mimetype": "text/x-python",
   "name": "python",
   "nbconvert_exporter": "python",
   "pygments_lexer": "ipython3",
   "version": "3.7.4"
  }
 },
 "nbformat": 4,
 "nbformat_minor": 2
}
