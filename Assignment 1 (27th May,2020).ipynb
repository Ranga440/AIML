{
 "cells": [
  {
   "cell_type": "markdown",
   "metadata": {},
   "source": [
    "## 27/05/2020 assignment "
   ]
  },
  {
   "cell_type": "markdown",
   "metadata": {},
   "source": [
    "[Question paper document](https://docs.google.com/document/d/1W0fIxTSXo7t64FWoTB6AbKkNX8C37qXCgSN60LcGzig/edit)"
   ]
  },
  {
   "cell_type": "markdown",
   "metadata": {},
   "source": [
    "# 1. Generate the following pattern"
   ]
  },
  {
   "cell_type": "code",
   "execution_count": null,
   "metadata": {},
   "outputs": [],
   "source": [
    "*\n",
    "*  *\n",
    "*  *  *\n",
    "*  *  *  *\n",
    "*  *  *  *  *"
   ]
  },
  {
   "cell_type": "code",
   "execution_count": 1,
   "metadata": {},
   "outputs": [
    {
     "name": "stdout",
     "output_type": "stream",
     "text": [
      "Enter number of rows 5\n",
      "* \n",
      "* * \n",
      "* * * \n",
      "* * * * \n",
      "* * * * * \n"
     ]
    }
   ],
   "source": [
    "rows = int(input(\"Enter number of rows \"))\n",
    "for i in range(0, rows):\n",
    "    for j in range(0, i + 1):\n",
    "        print(\"*\", end=' ')\n",
    "\n",
    "    print(\"\\r\")"
   ]
  },
  {
   "cell_type": "markdown",
   "metadata": {},
   "source": [
    "# 2. Display multiplication table of K. Take k value from user\n",
    " \tEx:     7 x 1 =7\n",
    "    \t\t7 x 2 = 14   ....."
   ]
  },
  {
   "cell_type": "code",
   "execution_count": 12,
   "metadata": {},
   "outputs": [
    {
     "name": "stdout",
     "output_type": "stream",
     "text": [
      "Enter which multiplication table number you want 7\n",
      "7 x 1 = 7\n",
      "7 x 2 = 14\n",
      "7 x 3 = 21\n",
      "7 x 4 = 28\n",
      "7 x 5 = 35\n",
      "7 x 6 = 42\n",
      "7 x 7 = 49\n",
      "7 x 8 = 56\n",
      "7 x 9 = 63\n",
      "7 x 10 = 70\n"
     ]
    }
   ],
   "source": [
    "num=int(input(\"Enter which multiplication table number you want \"))\n",
    "\n",
    "for i in range(1, 11):\n",
    "   print(num, 'x', i, '=', num*i)"
   ]
  },
  {
   "cell_type": "markdown",
   "metadata": {},
   "source": [
    "# 3. Roots of quadratic equation\n",
    "  \tTake the coefficients a,b,c from the user"
   ]
  },
  {
   "cell_type": "code",
   "execution_count": 1,
   "metadata": {},
   "outputs": [
    {
     "name": "stdout",
     "output_type": "stream",
     "text": [
      "Quadratic function : (a * x^2) + b*x + c\n",
      "a: 22\n",
      "b: 33\n",
      "c: 4\n",
      "There are 2 roots: -0.133006 and -1.366994\n"
     ]
    }
   ],
   "source": [
    "from math import sqrt\n",
    "\n",
    "print(\"Quadratic function : (a * x^2) + b*x + c\")\n",
    "a = float(input(\"a: \"))\n",
    "b = float(input(\"b: \"))\n",
    "c = float(input(\"c: \"))\n",
    "\n",
    "r = b**2 - 4*a*c\n",
    "\n",
    "if r > 0:\n",
    "    num_roots = 2\n",
    "    x1 = (((-b) + sqrt(r))/(2*a))     \n",
    "    x2 = (((-b) - sqrt(r))/(2*a))\n",
    "    print(\"There are 2 roots: %f and %f\" % (x1, x2))\n",
    "elif r == 0:\n",
    "    num_roots = 1\n",
    "    x = (-b) / 2*a\n",
    "    print(\"There is one root: \", x)\n",
    "else:\n",
    "    num_roots = 0\n",
    "    print(\"No roots, discriminant < 0.\")\n",
    "    exit()\n",
    "\t"
   ]
  },
  {
   "cell_type": "markdown",
   "metadata": {},
   "source": [
    "# 4. Convert a decimal number to Binary"
   ]
  },
  {
   "cell_type": "code",
   "execution_count": 2,
   "metadata": {},
   "outputs": [
    {
     "name": "stdout",
     "output_type": "stream",
     "text": [
      "Enter any decimal number: 145\n",
      "10010001"
     ]
    }
   ],
   "source": [
    "def decimalToBinary(num):\n",
    "    \"\"\"This function converts decimal number\n",
    "    to binary and prints it\"\"\"\n",
    "    if num > 1:\n",
    "        decimalToBinary(num // 2)\n",
    "    print(num % 2, end='')\n",
    "\n",
    "\n",
    "# decimal number\n",
    "number = int(input(\"Enter any decimal number: \"))\n",
    "\n",
    "decimalToBinary(number)"
   ]
  },
  {
   "cell_type": "markdown",
   "metadata": {},
   "source": [
    "# 5. Generate first N number of Fibonacci numbers. Take N value from the user"
   ]
  },
  {
   "cell_type": "code",
   "execution_count": 8,
   "metadata": {},
   "outputs": [
    {
     "name": "stdout",
     "output_type": "stream",
     "text": [
      "How many terms you want3\n",
      "fibonacci seq\n",
      "0 , 1 , 1 , "
     ]
    }
   ],
   "source": [
    "nterms = int(input(\"How many terms you want\"))\n",
    "n1=0\n",
    "n2=1\n",
    "count=2\n",
    "if nterms <= 0:\n",
    "    print(\"please enter a positive number\")\n",
    "elif nterms == 1:\n",
    "    print(\"fibonacci seq\")\n",
    "    print(n1)\n",
    "else :\n",
    "    print(\"fibonacci seq\")\n",
    "    print(n1,\",\",n2,end=\" , \")\n",
    "    while count < nterms:\n",
    "        nth= n1+n2\n",
    "        print(nth,end= \" , \")\n",
    "        # update values \n",
    "        n1=n2\n",
    "        n2=nth\n",
    "        count= count+1"
   ]
  },
  {
   "cell_type": "code",
   "execution_count": null,
   "metadata": {},
   "outputs": [],
   "source": []
  }
 ],
 "metadata": {
  "kernelspec": {
   "display_name": "Python 3",
   "language": "python",
   "name": "python3"
  },
  "language_info": {
   "codemirror_mode": {
    "name": "ipython",
    "version": 3
   },
   "file_extension": ".py",
   "mimetype": "text/x-python",
   "name": "python",
   "nbconvert_exporter": "python",
   "pygments_lexer": "ipython3",
   "version": "3.7.4"
  }
 },
 "nbformat": 4,
 "nbformat_minor": 2
}
