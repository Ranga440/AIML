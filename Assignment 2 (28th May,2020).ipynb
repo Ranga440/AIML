{
 "cells": [
  {
   "cell_type": "markdown",
   "metadata": {},
   "source": [
    "# Assignment for 28-05-2020"
   ]
  },
  {
   "cell_type": "markdown",
   "metadata": {},
   "source": [
    "## Question 1:\n",
    "Accept a string from the user and count no.of vowels,consonants and special characters\n"
   ]
  },
  {
   "cell_type": "code",
   "execution_count": 2,
   "metadata": {},
   "outputs": [
    {
     "name": "stdout",
     "output_type": "stream",
     "text": [
      "Enter any string: vardhan123@@\n",
      "Vowels: 2\n",
      "Consonant: 5\n",
      "Special Character: 2\n"
     ]
    }
   ],
   "source": [
    "\n",
    "def countCharacterType(str):  \n",
    "\tvowels = 0\n",
    "\tconsonant = 0\n",
    "\tspecialChar = 0\n",
    "\tdigit = 0\n",
    "\tfor i in range(0, len(str)): \n",
    "\t\t\n",
    "\t\tch = str[i] \n",
    "\t\tif ( (ch >= 'a' and ch <= 'z') or\n",
    "\t\t\t(ch >= 'A' and ch <= 'Z') ): \n",
    "\t\t\tch = ch.lower() \n",
    "\t\t\tif (ch == 'a' or ch == 'e' or ch == 'i'\n",
    "\t\t\t\t\t\tor ch == 'o' or ch == 'u'): \n",
    "\t\t\t\tvowels += 1\n",
    "\t\t\telse: \n",
    "\t\t\t\tconsonant += 1\n",
    "\t\t\n",
    "\t\telif (ch >= '0' and ch <= '9'): \n",
    "\t\t\tdigit += 1\n",
    "\t\telse: \n",
    "\t\t\tspecialChar += 1\n",
    "\t\n",
    "\tprint(\"Vowels:\", vowels) \n",
    "\tprint(\"Consonant:\", consonant) \n",
    "\t\n",
    "\tprint(\"Special Character:\", specialChar) \n",
    "str = input(\"Enter any string: \")\n",
    "countCharacterType(str) "
   ]
  },
  {
   "cell_type": "markdown",
   "metadata": {},
   "source": [
    "# Question 2:\n",
    "count the no.of pairs of a in the given string(Infosys InfyTQ)\n",
    "    string →  \"abbaaccbbaaa\"\n",
    "    output →  2\n"
   ]
  },
  {
   "cell_type": "code",
   "execution_count": 5,
   "metadata": {},
   "outputs": [
    {
     "name": "stdout",
     "output_type": "stream",
     "text": [
      "Enter a string:abbaaccbbaaa\n",
      "Pairs: 2\n"
     ]
    }
   ],
   "source": [
    "a=input('Enter a string:').lower()\n",
    "p=0\n",
    "c=0\n",
    "for i in a:\n",
    "    if i=='a' and c==0:\n",
    "        c=1\n",
    "    elif i=='a' and c==1:\n",
    "        c=0\n",
    "        p=p+1\n",
    "    else:\n",
    "        c=0\n",
    "print(\"Pairs:\",p)"
   ]
  },
  {
   "cell_type": "markdown",
   "metadata": {},
   "source": [
    "# Question 3:\n",
    "    Test case1:\n",
    "        string →  \"((((()()()))))()\"\n",
    "        output →  8\n",
    "    Test case2:\n",
    "        string →  \"((()))()\"\n",
    "        Output →  4\n"
   ]
  },
  {
   "cell_type": "code",
   "execution_count": 4,
   "metadata": {},
   "outputs": [
    {
     "name": "stdout",
     "output_type": "stream",
     "text": [
      "enter the brackets sequence((()))()\n",
      "4\n"
     ]
    }
   ],
   "source": [
    "#Test case1:\n",
    "#string →  \"((((()()()))))()\"\n",
    "#output →  8\n",
    "\n",
    "s1=input(\"enter the brackets sequence\")\n",
    "ope=0\n",
    "clo=0\n",
    "for i in range (0,len(s1)):\n",
    "    if s1[i]==\"(\":\n",
    "        ope = ope+1\n",
    "    else:\n",
    "        clo = clo+1\n",
    "if(ope==clo):\n",
    "    print(ope)"
   ]
  },
  {
   "cell_type": "markdown",
   "metadata": {},
   "source": [
    "# Question 4:\n",
    "Read the input as two limits and Print the output as Palindrome count between the two limits\n"
   ]
  },
  {
   "cell_type": "code",
   "execution_count": 12,
   "metadata": {},
   "outputs": [
    {
     "name": "stdout",
     "output_type": "stream",
     "text": [
      "Enter the values: 1\n",
      "Enter the values: 100\n",
      "18\n"
     ]
    }
   ],
   "source": [
    "def isPalindrome(n: int) -> bool: \n",
    "    rev = 0\n",
    "    i = n \n",
    "    while i > 0: \n",
    "        rev = rev * 10 + i % 10\n",
    "        i //= 10 \n",
    "    return (n == rev) \n",
    "\n",
    "def countPal(minn: int, maxx: int) -> None: \n",
    "    c=0\n",
    "    for i in range(minn, maxx + 1): \n",
    "        if isPalindrome(i): \n",
    "            c+=1 \n",
    "    print(c)\n",
    "x=int(input(\"Enter the values: \"))\n",
    "y=int(input(\"Enter the values: \"))\n",
    "countPal(x,y)"
   ]
  },
  {
   "cell_type": "markdown",
   "metadata": {},
   "source": [
    "# Question 5:\n",
    "\n",
    "- Accept a number as an input and check whether the given number is palindrome or not\n",
    "if it is a palindrome number print the number on the screen\n",
    "\n",
    "- if it is not a palindrome number reverse that number and add it to previous number repeat this until will get a palindrome number and print that palindrome number on the screen\n",
    "input: 127\n",
    "output: 848\n"
   ]
  },
  {
   "cell_type": "code",
   "execution_count": 2,
   "metadata": {},
   "outputs": [
    {
     "name": "stdout",
     "output_type": "stream",
     "text": [
      "Enter number:127\n",
      "The number isn't a palindrome!\n"
     ]
    }
   ],
   "source": [
    "n = int(input())\n",
    "while True :\n",
    "    if str(n) == str(n)[::-1]:\n",
    "        print(str(n)[::-1])\n",
    "        break\n",
    "    else:\n",
    "        n += int(str(n)[::-1])"
   ]
  },
  {
   "cell_type": "markdown",
   "metadata": {},
   "source": []
  },
  {
   "cell_type": "markdown",
   "metadata": {},
   "source": [
    "# Question 6:\n",
    "input:orange  →   output : puboif\n"
   ]
  },
  {
   "cell_type": "code",
   "execution_count": null,
   "metadata": {},
   "outputs": [],
   "source": [
    "s=str(input(\"Enter string\"))\n",
    "vowel=['a','e','i','o','u']\n",
    "for i in vowel:\n",
    "    print(chr)"
   ]
  },
  {
   "cell_type": "markdown",
   "metadata": {},
   "source": [
    "# Question 7:\n",
    "Accept input as a string and display sum of digits as the output \n",
    "input:Appli123cation456 \n",
    "Output: 21\n"
   ]
  },
  {
   "cell_type": "code",
   "execution_count": 7,
   "metadata": {},
   "outputs": [
    {
     "name": "stdout",
     "output_type": "stream",
     "text": [
      "enter a string: Appli123cation456\n",
      "21\n"
     ]
    }
   ],
   "source": [
    "def sum_digits_string(str1):\n",
    "    sum_digit = 0\n",
    "    for x in str1:\n",
    "        if x.isdigit() == True:\n",
    "            z = int(x)\n",
    "            sum_digit = sum_digit + z\n",
    "\n",
    "    return sum_digit\n",
    "     \n",
    "print(sum_digits_string(input(\"enter a string: \")))"
   ]
  },
  {
   "cell_type": "markdown",
   "metadata": {},
   "source": [
    "# Question 8:\n",
    "Write a program to prompt for a score between 0.0 and 1.0. If the score is out of range, print an error. If the score is between 0.0 and 1.0, print a grade using the following table:\n",
    "Score Grade\n",
    ">= 0.9 A\n",
    ">= 0.8 B\n",
    ">= 0.7 C\n",
    ">= 0.6 D\n",
    "< 0.6 F\n",
    "If the user enters a value out of range, print a suitable error message and exit. For the test, enter a score of 0.85\n"
   ]
  },
  {
   "cell_type": "code",
   "execution_count": 9,
   "metadata": {},
   "outputs": [
    {
     "name": "stdout",
     "output_type": "stream",
     "text": [
      "Enter Score0.7\n",
      "C\n"
     ]
    }
   ],
   "source": [
    "score=input(\"Enter Score\")\n",
    "s=float(score)\n",
    "if s>1.0:\n",
    "    print(\"Error\")\n",
    "elif s>=0.9:\n",
    "    print(\"A\")\n",
    "elif s>=0.8:\n",
    "    print(\"B\")\n",
    "elif s>=0.7:\n",
    "    print(\"C\")\n",
    "elif s>=0.6:\n",
    "    print(\"d\")\n",
    "else:\n",
    "    print(\"F\")"
   ]
  },
  {
   "cell_type": "markdown",
   "metadata": {},
   "source": [
    "# Question 9:\n",
    "Write a Python program which iterates the integers from 1 to 50. For multiples of three print \"Fizz\" instead of the number and for the multiples of five print \"Buzz\". For numbers which are multiples of both three and five print \"FizzBuzz\".\n",
    "Sample Output :\n",
    "fizzbuzz\n",
    "1\n",
    "2\n",
    "fizz\n",
    "4\n",
    "buzz\n"
   ]
  },
  {
   "cell_type": "code",
   "execution_count": 1,
   "metadata": {},
   "outputs": [
    {
     "name": "stdout",
     "output_type": "stream",
     "text": [
      "fizzbuzz\n",
      "1\n",
      "2\n",
      "fizz\n",
      "4\n",
      "buzz\n",
      "fizz\n",
      "7\n",
      "8\n",
      "fizz\n",
      "buzz\n",
      "11\n",
      "fizz\n",
      "13\n",
      "14\n",
      "fizzbuzz\n",
      "16\n",
      "17\n",
      "fizz\n",
      "19\n",
      "buzz\n",
      "fizz\n",
      "22\n",
      "23\n",
      "fizz\n",
      "buzz\n",
      "26\n",
      "fizz\n",
      "28\n",
      "29\n",
      "fizzbuzz\n",
      "31\n",
      "32\n",
      "fizz\n",
      "34\n",
      "buzz\n",
      "fizz\n",
      "37\n",
      "38\n",
      "fizz\n",
      "buzz\n",
      "41\n",
      "fizz\n",
      "43\n",
      "44\n",
      "fizzbuzz\n",
      "46\n",
      "47\n",
      "fizz\n",
      "49\n",
      "buzz\n"
     ]
    }
   ],
   "source": [
    "#Q9:fizz , buzz\n",
    "for fizzbuzz in range(51):\n",
    "    if( fizzbuzz %3==0 and fizzbuzz %5==0):\n",
    "        print(\"fizzbuzz\")\n",
    "        continue\n",
    "    elif fizzbuzz %3==0:\n",
    "        print(\"fizz\")\n",
    "        continue\n",
    "    elif fizzbuzz %5==0:\n",
    "        print(\"buzz\")\n",
    "        continue\n",
    "    print(fizzbuzz)"
   ]
  },
  {
   "cell_type": "markdown",
   "metadata": {},
   "source": [
    "# Question 10:\n",
    "Write a Python program to find the median of three values.\n",
    "Expected Output:\n",
    "Input first number: 26                                            \n",
    "Input second number: 15                                                \n",
    "Input third number: 29                                                  \n",
    "The median is 26\n"
   ]
  },
  {
   "cell_type": "code",
   "execution_count": 2,
   "metadata": {},
   "outputs": [
    {
     "name": "stdout",
     "output_type": "stream",
     "text": [
      "Input the first number26\n",
      "Input the second number15\n",
      "Input the third number29\n",
      "Median of the above three numbers -\n",
      "26\n"
     ]
    }
   ],
   "source": [
    "x = input(\"Input the first number\")\n",
    "y = input(\"Input the second number\")\n",
    "z = input(\"Input the third number\")\n",
    "print(\"Median of the above three numbers -\")\n",
    "\n",
    "if y < x and x < z:\n",
    "    print(x)\n",
    "elif z < x and x < y:\n",
    "    print(x)\n",
    "    \n",
    "elif z < y and y < x:\n",
    "    print(y)\n",
    "elif x < y and y < z:\n",
    "    print(y)\n",
    "    \n",
    "elif y < z and z < x:\n",
    "    print(z)    \n",
    "elif x < z and z < y:\n",
    "    print(z)"
   ]
  },
  {
   "cell_type": "code",
   "execution_count": null,
   "metadata": {},
   "outputs": [],
   "source": []
  }
 ],
 "metadata": {
  "kernelspec": {
   "display_name": "Python 3",
   "language": "python",
   "name": "python3"
  },
  "language_info": {
   "codemirror_mode": {
    "name": "ipython",
    "version": 3
   },
   "file_extension": ".py",
   "mimetype": "text/x-python",
   "name": "python",
   "nbconvert_exporter": "python",
   "pygments_lexer": "ipython3",
   "version": "3.7.4"
  }
 },
 "nbformat": 4,
 "nbformat_minor": 2
}
